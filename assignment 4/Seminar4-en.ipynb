{
 "cells": [
  {
   "cell_type": "markdown",
   "metadata": {},
   "source": [
    "# Theano, Lasagne\n",
    "and why they matter\n",
    "\n",
    "\n",
    "### got no lasagne?\n",
    "Install the __bleeding edge__ version from here: http://lasagne.readthedocs.org/en/latest/user/installation.html"
   ]
  },
  {
   "cell_type": "markdown",
   "metadata": {},
   "source": [
    "# Warming up\n",
    "* Implement a function that computes the sum of squares of numbers from 0 to N\n",
    "* Use numpy or python\n",
    "* An array of numbers 0 to N - numpy.arange(N)"
   ]
  },
  {
   "cell_type": "code",
   "execution_count": 1,
   "metadata": {
    "collapsed": false
   },
   "outputs": [],
   "source": [
    "import numpy as np\n",
    "def sum_squares(N):\n",
    "    range = np.arange(N)\n",
    "    return np.sum(np.multiply(range, range))"
   ]
  },
  {
   "cell_type": "code",
   "execution_count": 2,
   "metadata": {
    "collapsed": false
   },
   "outputs": [
    {
     "name": "stdout",
     "output_type": "stream",
     "text": [
      "CPU times: user 505 ms, sys: 572 ms, total: 1.08 s\n",
      "Wall time: 1.08 s\n"
     ]
    },
    {
     "data": {
      "text/plain": [
       "662921401752298880"
      ]
     },
     "execution_count": 2,
     "metadata": {},
     "output_type": "execute_result"
    }
   ],
   "source": [
    "%%time\n",
    "sum_squares(10**8)"
   ]
  },
  {
   "cell_type": "markdown",
   "metadata": {},
   "source": [
    "# theano teaser\n",
    "\n",
    "Doing the very same thing"
   ]
  },
  {
   "cell_type": "code",
   "execution_count": 3,
   "metadata": {
    "collapsed": true
   },
   "outputs": [],
   "source": [
    "import theano\n",
    "import theano.tensor as T"
   ]
  },
  {
   "cell_type": "code",
   "execution_count": 4,
   "metadata": {
    "collapsed": false
   },
   "outputs": [],
   "source": [
    "\n",
    "\n",
    "#I gonna be function parameter\n",
    "N = T.scalar(\"a dimension\",dtype='int32')\n",
    "\n",
    "\n",
    "#i am a recipe on how to produce sum of squares of arange of N given N\n",
    "result = (T.arange(N)**2).sum()\n",
    "\n",
    "#Compiling the recipe of computing \"result\" given N\n",
    "sum_function = theano.function(inputs = [N],outputs=result)"
   ]
  },
  {
   "cell_type": "code",
   "execution_count": 5,
   "metadata": {
    "collapsed": false
   },
   "outputs": [
    {
     "name": "stdout",
     "output_type": "stream",
     "text": [
      "CPU times: user 442 ms, sys: 123 ms, total: 565 ms\n",
      "Wall time: 572 ms\n"
     ]
    },
    {
     "data": {
      "text/plain": [
       "array(662921401752298880)"
      ]
     },
     "execution_count": 5,
     "metadata": {},
     "output_type": "execute_result"
    }
   ],
   "source": [
    "%%time\n",
    "sum_function(10**8)"
   ]
  },
  {
   "cell_type": "markdown",
   "metadata": {},
   "source": [
    "# How does it work?\n",
    "* 1 You define inputs f your future function;\n",
    "* 2 You write a recipe for some transformation of inputs;\n",
    "* 3 You compile it;\n",
    "* You have just got a function!\n",
    "* The gobbledegooky version: you define a function as symbolic computation graph.\n",
    "\n",
    "\n",
    "* There are two main kinвs of entities: \"Inputs\" and \"Transformations\"\n",
    "* Both can be numbers, vectors, matrices, tensors, etc.\n",
    "* Both can be integers, floats of booleans (uint8) of various size.\n",
    "\n",
    "\n",
    "* An input is a placeholder for function parameters.\n",
    " * N from example above\n",
    "\n",
    "\n",
    "* Transformations are the recipes for computing something given inputs and transformation\n",
    " * (T.arange(N)^2).sum() are 3 sequential transformations of N\n",
    " * Doubles all functions of numpy vector syntax\n",
    " * You can almost always go with replacing \"np.function\" with \"T.function\" aka \"theano.tensor.function\"\n",
    "   * np.mean -> T.mean\n",
    "   * np.arange -> T.arange\n",
    "   * np.cumsum -> T.cumsum\n",
    "   * and so on.\n",
    "   * builtin operations also work that way\n",
    "   * np.arange(10).mean() -> T.arange(10).mean()\n",
    "   * Once upon a blue moon the functions have different names or locations (e.g. T.extra_ops)\n",
    "     * Ask us or google it\n",
    " \n",
    " \n",
    "Still confused? We gonna fix that."
   ]
  },
  {
   "cell_type": "code",
   "execution_count": 6,
   "metadata": {
    "collapsed": false
   },
   "outputs": [],
   "source": [
    "#Inputs\n",
    "example_input_integer = T.scalar(\"scalar input\",dtype='float32')\n",
    "\n",
    "example_input_tensor = T.tensor4(\"four dimensional tensor input\") #dtype = theano.config.floatX by default\n",
    "#не бойся, тензор нам не пригодится\n",
    "\n",
    "\n",
    "\n",
    "input_vector = T.vector(\"\", dtype='int32') # vector of integers\n"
   ]
  },
  {
   "cell_type": "code",
   "execution_count": 7,
   "metadata": {
    "collapsed": false
   },
   "outputs": [],
   "source": [
    "#Transformations\n",
    "\n",
    "#transofrmation: elementwise multiplication\n",
    "double_the_vector = input_vector*2\n",
    "\n",
    "#elementwise cosine\n",
    "elementwise_cosine = T.cos(input_vector)\n",
    "\n",
    "#difference between squared vector and vector itself\n",
    "vector_squares = input_vector**2 - input_vector\n"
   ]
  },
  {
   "cell_type": "code",
   "execution_count": 9,
   "metadata": {
    "collapsed": false
   },
   "outputs": [],
   "source": [
    "#Practice time:\n",
    "#create two vectors of size float32\n",
    "my_vector = T.vector(\"\", dtype='float32')\n",
    "my_vector2 = T.vector(\"\", dtype='float32')"
   ]
  },
  {
   "cell_type": "code",
   "execution_count": 10,
   "metadata": {
    "collapsed": false
   },
   "outputs": [],
   "source": [
    "#Write a transformation(recipe):\n",
    "#(vec1)*(vec2) / (sin(vec1) +1)\n",
    "my_transformation = my_vector * my_vector2 / (T.sin(my_vector) + 1)"
   ]
  },
  {
   "cell_type": "code",
   "execution_count": 11,
   "metadata": {
    "collapsed": false
   },
   "outputs": [
    {
     "name": "stdout",
     "output_type": "stream",
     "text": [
      "Elemwise{true_div,no_inplace}.0\n"
     ]
    }
   ],
   "source": [
    "print my_transformation\n",
    "#it's okay it aint a number"
   ]
  },
  {
   "cell_type": "markdown",
   "metadata": {},
   "source": [
    "# Compiling\n",
    "* So far we were using \"symbolic\" variables and transformations\n",
    " * Defining the recipe for computation, but not computing anything\n",
    "* To use the recipe, one should compile it"
   ]
  },
  {
   "cell_type": "code",
   "execution_count": 12,
   "metadata": {
    "collapsed": false
   },
   "outputs": [],
   "source": [
    "inputs = [my_vector, my_vector2]\n",
    "outputs = [my_transformation]\n",
    "\n",
    "# The next lines compile a function that takes two vectors and computes your transformation\n",
    "my_function = theano.function(\n",
    "    inputs,outputs,\n",
    "    allow_input_downcast=True #automatic type casting for input parameters (e.g. float64 -> float32)\n",
    " )"
   ]
  },
  {
   "cell_type": "code",
   "execution_count": 13,
   "metadata": {
    "collapsed": false
   },
   "outputs": [
    {
     "name": "stdout",
     "output_type": "stream",
     "text": [
      "using python lists:\n",
      "[array([  2.1721766 ,   5.23752832,  15.77397728], dtype=float32)]\n",
      "\n",
      "using numpy arrays:\n",
      "[array([   0.        ,    2.77555895,    5.47030783,   14.02131271,\n",
      "         89.5477066 ,  676.25805664,   47.183918  ,   24.4084301 ,\n",
      "         23.68156242,   38.24041748], dtype=float32)]\n"
     ]
    }
   ],
   "source": [
    "#using function with, lists:\n",
    "print \"using python lists:\"\n",
    "print my_function([1,2,3],[4,5,6])\n",
    "print\n",
    "\n",
    "#Or using numpy arrays:\n",
    "#btw, that 'float' dtype is casted to secong parameter dtype which is float32\n",
    "print \"using numpy arrays:\"\n",
    "print my_function(np.arange(10),\n",
    "                  np.linspace(5,6,10,dtype='float'))\n"
   ]
  },
  {
   "cell_type": "markdown",
   "metadata": {},
   "source": [
    "# Debugging\n",
    "* Compilation can take a while for big functions\n",
    "* To avoid waiting, one can evaluate transformations without compiling\n",
    "* Without compilation, the code runs slower, so consider reducing input size\n"
   ]
  },
  {
   "cell_type": "code",
   "execution_count": 14,
   "metadata": {
    "collapsed": false
   },
   "outputs": [
    {
     "name": "stdout",
     "output_type": "stream",
     "text": [
      "[  2.1721766    5.23752832  15.77397728]\n",
      "add 2 vectors [ 5.  7.  9.]\n",
      "vector's shape: [3]\n"
     ]
    }
   ],
   "source": [
    "#a dictionary of inputs\n",
    "my_function_inputs = {\n",
    "    my_vector:[1,2,3],\n",
    "    my_vector2:[4,5,6]\n",
    "}\n",
    "\n",
    "# evaluate my_transformation\n",
    "# has to match with compiled function output\n",
    "print my_transformation.eval(my_function_inputs)\n",
    "\n",
    "\n",
    "# can compute transformations on the fly\n",
    "print \"add 2 vectors\", (my_vector + my_vector2).eval(my_function_inputs)\n",
    "\n",
    "#!WARNING! if your transformation only depends on some inputs,\n",
    "#do not provide the rest of them\n",
    "print \"vector's shape:\", my_vector.shape.eval({\n",
    "        my_vector:[1,2,3]\n",
    "    })\n"
   ]
  },
  {
   "cell_type": "markdown",
   "metadata": {},
   "source": [
    "* Для отладки желательно уменьшить масштаб задачи. Если вы планировали послать на вход вектор из 10^9 примеров, пошлите 10~100.\n",
    "* Если #ОЧЕНЬ нужно послать большой вектор, быстрее скомпилировать функцию обычным способом"
   ]
  },
  {
   "cell_type": "markdown",
   "metadata": {},
   "source": [
    "# Теперь сам"
   ]
  },
  {
   "cell_type": "code",
   "execution_count": 15,
   "metadata": {
    "collapsed": false
   },
   "outputs": [],
   "source": [
    "# Quest #1 - implement a function that computes a mean squared error of two input vectors\n",
    "# Your function has to take 2 vectors and return a single number\n",
    "\n",
    "vec1 = T.vector(\"\", dtype=\"float32\")\n",
    "vec2 = T.vector(\"\", dtype=\"float32\")\n",
    "mse = ((vec1 - vec2) ** 2).mean()\n",
    "\n",
    "compute_mse = theano.function(\n",
    "    [vec1, vec2],\n",
    "    [mse],\n",
    "    allow_input_downcast=True #automatic type casting for input parameters (e.g. float64 -> float32)\n",
    ")"
   ]
  },
  {
   "cell_type": "code",
   "execution_count": 16,
   "metadata": {
    "collapsed": false
   },
   "outputs": [
    {
     "name": "stdout",
     "output_type": "stream",
     "text": [
      "All tests passed\n"
     ]
    }
   ],
   "source": [
    "# Tests\n",
    "from sklearn.metrics import mean_squared_error\n",
    "\n",
    "for n in [1,5,10,10**3]:\n",
    "    \n",
    "    elems = [np.arange(n),np.arange(n,0,-1), np.zeros(n),\n",
    "             np.ones(n),np.random.random(n),np.random.randint(100,size=n)]\n",
    "    \n",
    "    for el in elems:\n",
    "        for el_2 in elems:\n",
    "            true_mse = np.array(mean_squared_error(el,el_2))\n",
    "            my_mse = compute_mse(el,el_2)\n",
    "            if not np.allclose(true_mse,my_mse):\n",
    "                print 'Wrong result:'\n",
    "                print 'mse(%s,%s)'%(el,el_2)\n",
    "                print \"should be: %f, but your function returned %f\"%(true_mse,my_mse)\n",
    "                raise ValueError,\"Что-то не так\"\n",
    "\n",
    "print \"All tests passed\"\n",
    "            \n",
    "    "
   ]
  },
  {
   "cell_type": "markdown",
   "metadata": {},
   "source": [
    "# Shared variables\n",
    "\n",
    "* The inputs and transformations only exist when function is called\n",
    "\n",
    "* Shared variables always stay in memory like global variables\n",
    " * Shared variables can be included into a symbolic graph\n",
    " * They can be set and evaluated using special methods\n",
    "   * but they can't change value arbitrarily during symbolic graph computation\n",
    "   * we'll cover that later;\n",
    " \n",
    " \n",
    "* Hint: such variables are a perfect place to store network parameters\n",
    " * e.g. weights or some metadata"
   ]
  },
  {
   "cell_type": "code",
   "execution_count": 17,
   "metadata": {
    "collapsed": false
   },
   "outputs": [],
   "source": [
    "#creating shared variable\n",
    "shared_vector_1 = theano.shared(np.ones(10,dtype='float64'))"
   ]
  },
  {
   "cell_type": "code",
   "execution_count": 18,
   "metadata": {
    "collapsed": false
   },
   "outputs": [
    {
     "name": "stdout",
     "output_type": "stream",
     "text": [
      "initial value [ 1.  1.  1.  1.  1.  1.  1.  1.  1.  1.]\n"
     ]
    }
   ],
   "source": [
    "\n",
    "#evaluating shared variable (outside symbolicd graph)\n",
    "print \"initial value\",shared_vector_1.get_value()\n",
    "\n",
    "# within symbolic graph you use them just as any other inout or transformation, not \"get value\" needed"
   ]
  },
  {
   "cell_type": "code",
   "execution_count": 19,
   "metadata": {
    "collapsed": false
   },
   "outputs": [
    {
     "name": "stdout",
     "output_type": "stream",
     "text": [
      "new value [ 0.  1.  2.  3.  4.]\n"
     ]
    }
   ],
   "source": [
    "#setting new value\n",
    "shared_vector_1.set_value( np.arange(5) )\n",
    "\n",
    "#getting that new value\n",
    "print \"new value\", shared_vector_1.get_value()\n",
    "\n",
    "#Note that the vector changed shape\n",
    "#This is entirely allowed... unless your graph is hard-wired to work with some fixed shape"
   ]
  },
  {
   "cell_type": "markdown",
   "metadata": {},
   "source": [
    "# Your turn"
   ]
  },
  {
   "cell_type": "code",
   "execution_count": 20,
   "metadata": {
    "collapsed": true
   },
   "outputs": [],
   "source": [
    "# Write a recipe (transformation) that computes an elementwise transformation of shared_vector and input_scalar\n",
    "#Compile as a function of input_scalar\n",
    "\n",
    "input_scalar = T.scalar('coefficient',dtype='float32')\n",
    "\n",
    "scalar_times_shared = input_scalar * shared_vector_1\n",
    "\n",
    "\n",
    "shared_times_n = theano.function(\n",
    "    [input_scalar],\n",
    "    [scalar_times_shared]\n",
    ")\n"
   ]
  },
  {
   "cell_type": "code",
   "execution_count": 21,
   "metadata": {
    "collapsed": false
   },
   "outputs": [
    {
     "name": "stdout",
     "output_type": "stream",
     "text": [
      "shared: [ 0.  1.  2.  3.  4.]\n",
      "shared_times_n(5) [array([  0.,   5.,  10.,  15.,  20.])]\n",
      "shared_times_n(-0.5) [array([-0. , -0.5, -1. , -1.5, -2. ])]\n"
     ]
    }
   ],
   "source": [
    "print \"shared:\", shared_vector_1.get_value()\n",
    "\n",
    "print \"shared_times_n(5)\",shared_times_n(5)\n",
    "\n",
    "print \"shared_times_n(-0.5)\",shared_times_n(-0.5)\n"
   ]
  },
  {
   "cell_type": "code",
   "execution_count": 22,
   "metadata": {
    "collapsed": false
   },
   "outputs": [
    {
     "name": "stdout",
     "output_type": "stream",
     "text": [
      "shared: [-1.  0.  1.]\n",
      "shared_times_n(5) [array([-5.,  0.,  5.])]\n",
      "shared_times_n(-0.5) [array([ 0.5, -0. , -0.5])]\n"
     ]
    }
   ],
   "source": [
    "#Changing value of vector 1 (output should change)\n",
    "shared_vector_1.set_value([-1,0,1])\n",
    "print \"shared:\", shared_vector_1.get_value()\n",
    "\n",
    "print \"shared_times_n(5)\",shared_times_n(5)\n",
    "\n",
    "print \"shared_times_n(-0.5)\",shared_times_n(-0.5)\n"
   ]
  },
  {
   "cell_type": "markdown",
   "metadata": {},
   "source": [
    "# T.grad - why theano matters\n",
    "* Theano can compute derivatives and gradients automatically\n",
    "* Derivatives are computed symbolically, not numerically\n",
    "\n",
    "Limitations:\n",
    "* You can only compute a gradient of a __scalar__ transformation over one or several scalar or vector (or tensor) transformations or inputs.\n",
    "* A transformation has to have float32 or float64 dtype throughout the whole computation graph\n",
    " * derivative over an integer has no mathematical sense\n"
   ]
  },
  {
   "cell_type": "code",
   "execution_count": 23,
   "metadata": {
    "collapsed": false
   },
   "outputs": [],
   "source": [
    "my_scalar = T.scalar(name='input',dtype='float64')\n",
    "\n",
    "scalar_squared = T.sum(my_scalar**2)\n",
    "\n",
    "#a derivative of v_squared by my_vector\n",
    "derivative = T.grad(scalar_squared,my_scalar)\n",
    "\n",
    "fun = theano.function([my_scalar],scalar_squared)\n",
    "grad = theano.function([my_scalar],derivative) "
   ]
  },
  {
   "cell_type": "code",
   "execution_count": 24,
   "metadata": {
    "collapsed": false
   },
   "outputs": [
    {
     "data": {
      "text/plain": [
       "<matplotlib.legend.Legend at 0x7f6146bfbcd0>"
      ]
     },
     "execution_count": 24,
     "metadata": {},
     "output_type": "execute_result"
    },
    {
     "data": {
      "image/png": "[encoded data removed]",
      "text/plain": [
       "<matplotlib.figure.Figure at 0x7f6150211ad0>"
      ]
     },
     "metadata": {},
     "output_type": "display_data"
    }
   ],
   "source": [
    "import matplotlib.pyplot as plt\n",
    "%matplotlib inline\n",
    "\n",
    "\n",
    "x = np.linspace(-3,3)\n",
    "x_squared = map(fun,x)\n",
    "x_squared_der = map(grad,x)\n",
    "\n",
    "plt.plot(x, x_squared,label=\"x^2\")\n",
    "plt.plot(x, x_squared_der, label=\"derivative\")\n",
    "plt.legend()"
   ]
  },
  {
   "cell_type": "markdown",
   "metadata": {},
   "source": [
    "# Why that rocks"
   ]
  },
  {
   "cell_type": "code",
   "execution_count": 25,
   "metadata": {
    "collapsed": false
   },
   "outputs": [],
   "source": [
    "\n",
    "my_vector = T.vector('float64')\n",
    "\n",
    "#Compute the gradient of the next weird function over my_scalar and my_vector\n",
    "#warning! Trying to understand the meaning of that function may result in permanent brain damage\n",
    "\n",
    "weird_psychotic_function = ((my_vector+my_scalar)**(1+T.var(my_vector)) +1./T.arcsinh(my_scalar)).mean()/(my_scalar**2 +1) + 0.01*T.sin(2*my_scalar**1.5)*(T.sum(my_vector)* my_scalar**2)*T.exp((my_scalar-4)**2)/(1+T.exp((my_scalar-4)**2))*(1.-(T.exp(-(my_scalar-4)**2))/(1+T.exp(-(my_scalar-4)**2)))**2\n",
    "\n",
    "\n",
    "der_by_scalar,der_by_vector = T.grad(weird_psychotic_function, [my_scalar, my_vector])\n",
    "\n",
    "\n",
    "compute_weird_function = theano.function([my_scalar,my_vector],weird_psychotic_function)\n",
    "compute_der_by_scalar = theano.function([my_scalar,my_vector],der_by_scalar)\n"
   ]
  },
  {
   "cell_type": "code",
   "execution_count": 26,
   "metadata": {
    "collapsed": false
   },
   "outputs": [
    {
     "data": {
      "text/plain": [
       "<matplotlib.legend.Legend at 0x7f61502118d0>"
      ]
     },
     "execution_count": 26,
     "metadata": {},
     "output_type": "execute_result"
    },
    {
     "data": {
      "image/png": "[encoded data removed]",
      "text/plain": [
       "<matplotlib.figure.Figure at 0x7f61469aaed0>"
      ]
     },
     "metadata": {},
     "output_type": "display_data"
    }
   ],
   "source": [
    "#Plotting your derivative\n",
    "vector_0 = [1,2,3]\n",
    "\n",
    "scalar_space = np.linspace(0,7)\n",
    "\n",
    "y = [compute_weird_function(x,vector_0) for x in scalar_space]\n",
    "plt.plot(scalar_space,y,label='function')\n",
    "y_der_by_scalar = [compute_der_by_scalar(x,vector_0) for x in scalar_space]\n",
    "plt.plot(scalar_space,y_der_by_scalar,label='derivative')\n",
    "plt.grid();plt.legend()\n"
   ]
  },
  {
   "cell_type": "markdown",
   "metadata": {},
   "source": [
    "# Almost done - Updates\n",
    "\n",
    "* updates are a way of changing shared variables at after function call.\n",
    "\n",
    "* technically it's a dictionary {shared_variable : a recipe for new value} which is has to be provided when function is compiled\n",
    "\n",
    "That's how it works:"
   ]
  },
  {
   "cell_type": "code",
   "execution_count": 27,
   "metadata": {
    "collapsed": false
   },
   "outputs": [],
   "source": [
    "# Multiply shared vector by a number and save the product back into shared vector\n",
    "\n",
    "inputs = [input_scalar]\n",
    "outputs = [scalar_times_shared] #return vector times scalar\n",
    "\n",
    "my_updates = {\n",
    "    shared_vector_1:scalar_times_shared #and write this same result bach into shared_vector_1\n",
    "}\n",
    "\n",
    "compute_and_save = theano.function(inputs, outputs, updates=my_updates)"
   ]
  },
  {
   "cell_type": "code",
   "execution_count": 28,
   "metadata": {
    "collapsed": false
   },
   "outputs": [
    {
     "name": "stdout",
     "output_type": "stream",
     "text": [
      "initial shared value: [ 0.  1.  2.  3.  4.]\n",
      "compute_and_save(2) returns [array([ 0.,  2.,  4.,  6.,  8.])]\n",
      "new shared value: [ 0.  2.  4.  6.  8.]\n"
     ]
    }
   ],
   "source": [
    "shared_vector_1.set_value(np.arange(5))\n",
    "\n",
    "#initial shared_vector_1\n",
    "print \"initial shared value:\" ,shared_vector_1.get_value()\n",
    "\n",
    "# evaluating the function (shared_vector_1 will be changed)\n",
    "print \"compute_and_save(2) returns\",compute_and_save(2)\n",
    "\n",
    "#evaluate new shared_vector_1\n",
    "print \"new shared value:\" ,shared_vector_1.get_value()\n",
    "\n"
   ]
  },
  {
   "cell_type": "markdown",
   "metadata": {},
   "source": [
    "# Logistic regression example\n",
    "\n",
    "Implement the regular logistic regression training algorithm\n",
    "\n",
    "Tips:\n",
    "* Weights fit in as a shared variable\n",
    "* X and y are potential inputs\n",
    "* Compile 2 functions:\n",
    " * train_function(X,y) - returns error and computes weights' new values __(through updates)__\n",
    " * predict_fun(X) - just computes probabilities (\"y\") given data\n",
    " \n",
    " \n",
    "We shall train on a two-class MNIST dataset\n",
    "* please note that target y are {0,1} and not {-1,1} as in some formulae"
   ]
  },
  {
   "cell_type": "code",
   "execution_count": 29,
   "metadata": {
    "collapsed": false
   },
   "outputs": [
    {
     "name": "stdout",
     "output_type": "stream",
     "text": [
      "y [shape - (360,)]: [0 1 0 1 0 1 0 0 1 1]\n",
      "X [shape - (360, 64)]:\n",
      "[[  0.   0.   5.  13.   9.   1.   0.   0.   0.   0.  13.  15.  10.  15.\n",
      "    5.   0.   0.   3.  15.   2.   0.  11.   8.   0.   0.   4.  12.   0.\n",
      "    0.   8.   8.   0.   0.   5.   8.   0.   0.   9.   8.   0.   0.   4.\n",
      "   11.   0.   1.  12.   7.   0.   0.   2.  14.   5.  10.  12.   0.   0.\n",
      "    0.   0.   6.  13.  10.   0.   0.   0.]\n",
      " [  0.   0.   0.  12.  13.   5.   0.   0.   0.   0.   0.  11.  16.   9.\n",
      "    0.   0.   0.   0.   3.  15.  16.   6.   0.   0.   0.   7.  15.  16.\n",
      "   16.   2.   0.   0.   0.   0.   1.  16.  16.   3.   0.   0.   0.   0.\n",
      "    1.  16.  16.   6.   0.   0.   0.   0.   1.  16.  16.   6.   0.   0.\n",
      "    0.   0.   0.  11.  16.  10.   0.   0.]\n",
      " [  0.   0.   1.   9.  15.  11.   0.   0.   0.   0.  11.  16.   8.  14.\n",
      "    6.   0.   0.   2.  16.  10.   0.   9.   9.   0.   0.   1.  16.   4.\n",
      "    0.   8.   8.   0.   0.   4.  16.   4.   0.   8.   8.   0.   0.   1.\n",
      "   16.   5.   1.  11.   3.   0.   0.   0.  12.  12.  10.  10.   0.   0.\n",
      "    0.   0.   1.  10.  13.   3.   0.   0.]]\n",
      "[0 1 0 1 0 1 0 0 1 1]\n"
     ]
    }
   ],
   "source": [
    "from sklearn.datasets import load_digits\n",
    "mnist = load_digits(2)\n",
    "\n",
    "X,y = mnist.data, mnist.target\n",
    "\n",
    "\n",
    "print \"y [shape - %s]:\"%(str(y.shape)),y[:10]\n",
    "\n",
    "print \"X [shape - %s]:\"%(str(X.shape))\n",
    "print X[:3]\n",
    "print y[:10]"
   ]
  },
  {
   "cell_type": "code",
   "execution_count": 30,
   "metadata": {
    "collapsed": false
   },
   "outputs": [],
   "source": [
    "# inputs and shareds\n",
    "shared_weights = theano.shared(np.zeros(X.shape[1] + 1, dtype='float64'))\n",
    "input_X = T.matrix(\"\", dtype=\"float64\")\n",
    "input_y = T.vector(\"\", dtype=\"float64\")"
   ]
  },
  {
   "cell_type": "code",
   "execution_count": null,
   "metadata": {
    "collapsed": true
   },
   "outputs": [],
   "source": [
    "predicted_y = <predicted probabilities for input_X>\n",
    "loss = <logistic loss (scalar, mean over sample)>\n",
    "\n",
    "grad = <gradient of loss over model weights>\n",
    "\n",
    "\n",
    "\n",
    "updates = {\n",
    "    shared_weights: <new weights after gradient step>\n",
    "}"
   ]
  },
  {
   "cell_type": "code",
   "execution_count": null,
   "metadata": {
    "collapsed": true
   },
   "outputs": [],
   "source": [
    "train_function = <compile function that takes X and y, returns log loss and updates weights>\n",
    "predict_function = <compile function that takes X and computes probabilities of y>"
   ]
  },
  {
   "cell_type": "code",
   "execution_count": null,
   "metadata": {
    "collapsed": false
   },
   "outputs": [],
   "source": [
    "from sklearn.cross_validation import train_test_split\n",
    "X_train,X_test,y_train,y_test = train_test_split(X,y)"
   ]
  },
  {
   "cell_type": "code",
   "execution_count": null,
   "metadata": {
    "collapsed": false
   },
   "outputs": [],
   "source": [
    "from sklearn.metrics import roc_auc_score\n",
    "\n",
    "for i in range(5):\n",
    "    loss_i = train_function(X_train,y_train)\n",
    "    print \"loss at iter %i:%.4f\"%(i,loss_i)\n",
    "    print \"train auc:\",roc_auc_score(y_train,predict_function(X_train))\n",
    "    print \"test auc:\",roc_auc_score(y_test,predict_function(X_test))\n",
    "\n",
    "    \n",
    "print \"resulting weights:\"\n",
    "plt.imshow(shared_weights.get_value().reshape(8,-1))\n",
    "plt.colorbar()"
   ]
  },
  {
   "cell_type": "markdown",
   "metadata": {},
   "source": [
    "# lasagne\n",
    "* lasagne is a library for neural network building and training\n",
    "* it's a low-level library with almost seamless integration with theano\n",
    "\n",
    "For a demo we shall solve the same digit recognition problem, but at a different scale\n",
    "* images are now 28x28\n",
    "* 10 different digits\n",
    "* 50k samples"
   ]
  },
  {
   "cell_type": "code",
   "execution_count": 4,
   "metadata": {
    "collapsed": false
   },
   "outputs": [
    {
     "name": "stdout",
     "output_type": "stream",
     "text": [
      "Downloading train-images-idx3-ubyte.gz\n",
      "Downloading train-labels-idx1-ubyte.gz\n",
      "Downloading t10k-images-idx3-ubyte.gz\n",
      "Downloading t10k-labels-idx1-ubyte.gz\n",
      "(50000, 1, 28, 28) (50000,)\n"
     ]
    }
   ],
   "source": [
    "from mnist import load_dataset\n",
    "X_train,y_train,X_val,y_val,X_test,y_test = load_dataset()\n",
    "\n",
    "print X_train.shape,y_train.shape"
   ]
  },
  {
   "cell_type": "code",
   "execution_count": 5,
   "metadata": {
    "collapsed": false
   },
   "outputs": [],
   "source": [
    "import lasagne\n",
    "\n",
    "input_X = T.tensor4(\"X\")\n",
    "\n",
    "#input dimention (None means \"Arbitrary\" and only works at  the first axes [samples])\n",
    "input_shape = [None,1,28,28]\n",
    "\n",
    "target_y = T.vector(\"target Y integer\",dtype='int32')"
   ]
  },
  {
   "cell_type": "markdown",
   "metadata": {},
   "source": [
    "Defining network architecture"
   ]
  },
  {
   "cell_type": "code",
   "execution_count": 6,
   "metadata": {
    "collapsed": false
   },
   "outputs": [],
   "source": [
    "#Input layer (auxilary)\n",
    "input_layer = lasagne.layers.InputLayer(shape = input_shape,input_var=input_X)\n",
    "\n",
    "#fully connected layer, that takes input layer and applies 50 neurons to it.\n",
    "# nonlinearity here is sigmoid as in logistic regression\n",
    "# you can give a name to each layer (optional)\n",
    "dense_1 = lasagne.layers.DenseLayer(input_layer,num_units=50,\n",
    "                                   nonlinearity = lasagne.nonlinearities.sigmoid,\n",
    "                                   name = \"hidden_dense_layer\")\n",
    "\n",
    "#fully connected output layer that takes dense_1 as input and has 10 neurons (1 for each digit)\n",
    "#We use softmax nonlinearity to make probabilities add up to 1\n",
    "dense_output = lasagne.layers.DenseLayer(dense_1,num_units = 10,\n",
    "                                        nonlinearity = lasagne.nonlinearities.softmax,\n",
    "                                        name='output')\n"
   ]
  },
  {
   "cell_type": "code",
   "execution_count": 7,
   "metadata": {
    "collapsed": false
   },
   "outputs": [],
   "source": [
    "#network prediction (theano-transformation)\n",
    "y_predicted = lasagne.layers.get_output(dense_output)"
   ]
  },
  {
   "cell_type": "code",
   "execution_count": 8,
   "metadata": {
    "collapsed": false
   },
   "outputs": [
    {
     "name": "stdout",
     "output_type": "stream",
     "text": [
      "[hidden_dense_layer.W, hidden_dense_layer.b, output.W, output.b]\n"
     ]
    }
   ],
   "source": [
    "#all network weights (shared variables)\n",
    "all_weights = lasagne.layers.get_all_params(dense_output)\n",
    "print all_weights"
   ]
  },
  {
   "cell_type": "markdown",
   "metadata": {},
   "source": [
    "### Than you could simply\n",
    "* define loss function manually\n",
    "* compute error gradient over all weights\n",
    "* define updates\n",
    "* But that's a whole lot of work and life's short\n",
    "  * not to mention life's too short to wait for SGD to converge\n",
    "\n",
    "Instead, we shall use Lasagne builtins"
   ]
  },
  {
   "cell_type": "code",
   "execution_count": 9,
   "metadata": {
    "collapsed": false
   },
   "outputs": [],
   "source": [
    "#Mean categorical crossentropy as a loss function - similar to logistic loss but for multiclass targets\n",
    "loss = lasagne.objectives.categorical_crossentropy(y_predicted,target_y).mean()\n",
    "\n",
    "#prediction accuracy\n",
    "accuracy = lasagne.objectives.categorical_accuracy(y_predicted,target_y).mean()\n",
    "\n",
    "#This function computes gradient AND composes weight updates just like you did earlier\n",
    "updates_sgd = lasagne.updates.sgd(loss, all_weights,learning_rate=0.01)"
   ]
  },
  {
   "cell_type": "code",
   "execution_count": 10,
   "metadata": {
    "collapsed": true
   },
   "outputs": [],
   "source": [
    "#function that computes loss and updates weights\n",
    "train_fun = theano.function([input_X,target_y],[loss,accuracy],updates= updates_sgd)\n",
    "\n",
    "#function that just computes accuracy\n",
    "accuracy_fun = theano.function([input_X,target_y],accuracy)"
   ]
  },
  {
   "cell_type": "markdown",
   "metadata": {},
   "source": [
    "### That's all, now let's train it!\n",
    "* We got a lot of data, so it's recommended that you use SGD\n",
    "* So let's implement a function that splits the training sample into minibatches"
   ]
  },
  {
   "cell_type": "code",
   "execution_count": 13,
   "metadata": {
    "collapsed": true
   },
   "outputs": [],
   "source": [
    "# An auxilary function that returns mini-batches for neural network training\n",
    "\n",
    "#Parameters\n",
    "# X - a tensor of images with shape (many, 1, 28, 28), e.g. X_train\n",
    "# y - a vector of answers for corresponding images e.g. Y_train\n",
    "#batch_size - a single number - the intended size of each batches\n",
    "\n",
    "#What do need to implement\n",
    "# 1) Shuffle data\n",
    "# - Gotta shuffle X and y the same way not to break the correspondence between X_i and y_i\n",
    "# 3) Split data into minibatches of batch_size\n",
    "# - If data size is not a multiple of batch_size, make one last batch smaller.\n",
    "# 4) return a list (or an iterator) of pairs\n",
    "# - (подгруппа картинок, ответы из y на эту подгруппу)\n",
    "def iterate_minibatches(X, y, batchsize):\n",
    "    \n",
    "    n_samples = X.shape[0]\n",
    "        \n",
    "    # Shuffle at the start of epoch\n",
    "    indices = np.arange(n_samples)\n",
    "    np.random.shuffle(indices)\n",
    "    \n",
    "    for start in range(0, n_samples, batch_size):\n",
    "        end = min(start + batch_size, n_samples)\n",
    "        \n",
    "        batch_idx = indices[start:end]\n",
    "    \n",
    "        yield X[batch_idx], y[batch_idx]\n",
    "    \n",
    "        \n",
    "        \n",
    "#\n",
    "#\n",
    "#\n",
    "#\n",
    "#\n",
    "#\n",
    "#\n",
    "#\n",
    "#\n",
    "#\n",
    "#\n",
    "#\n",
    "#\n",
    "#\n",
    "#\n",
    "#\n",
    "#\n",
    "#\n",
    "#\n",
    "#\n",
    "#\n",
    "#\n",
    "#\n",
    "# You feel lost and wish you stayed home tonight?\n",
    "# Go search for a similar function at\n",
    "# https://github.com/Lasagne/Lasagne/blob/master/examples/mnist.py"
   ]
  },
  {
   "cell_type": "markdown",
   "metadata": {},
   "source": [
    "# Training loop"
   ]
  },
  {
   "cell_type": "code",
   "execution_count": 14,
   "metadata": {
    "collapsed": false,
    "scrolled": true
   },
   "outputs": [
    {
     "name": "stdout",
     "output_type": "stream",
     "text": [
      "Epoch 1 of 100 took 2.013s\n",
      "  training loss (in-iteration):\t\t1.887993\n",
      "  train accuracy:\t\t56.83 %\n",
      "  validation accuracy:\t\t76.44 %\n",
      "Epoch 2 of 100 took 2.077s\n",
      "  training loss (in-iteration):\t\t1.202587\n",
      "  train accuracy:\t\t78.27 %\n",
      "  validation accuracy:\t\t83.08 %\n",
      "Epoch 3 of 100 took 1.690s\n",
      "  training loss (in-iteration):\t\t0.866884\n",
      "  train accuracy:\t\t82.64 %\n",
      "  validation accuracy:\t\t86.00 %\n",
      "Epoch 4 of 100 took 1.671s\n",
      "  training loss (in-iteration):\t\t0.700119\n",
      "  train accuracy:\t\t84.82 %\n",
      "  validation accuracy:\t\t87.60 %\n",
      "Epoch 5 of 100 took 1.767s\n",
      "  training loss (in-iteration):\t\t0.603712\n",
      "  train accuracy:\t\t86.32 %\n",
      "  validation accuracy:\t\t88.25 %\n",
      "Epoch 6 of 100 took 1.864s\n",
      "  training loss (in-iteration):\t\t0.540931\n",
      "  train accuracy:\t\t87.25 %\n",
      "  validation accuracy:\t\t88.87 %\n",
      "Epoch 7 of 100 took 1.866s\n",
      "  training loss (in-iteration):\t\t0.496710\n",
      "  train accuracy:\t\t87.95 %\n",
      "  validation accuracy:\t\t89.45 %\n",
      "Epoch 8 of 100 took 1.720s\n",
      "  training loss (in-iteration):\t\t0.463980\n",
      "  train accuracy:\t\t88.45 %\n",
      "  validation accuracy:\t\t89.84 %\n",
      "Epoch 9 of 100 took 1.666s\n",
      "  training loss (in-iteration):\t\t0.438938\n",
      "  train accuracy:\t\t88.84 %\n",
      "  validation accuracy:\t\t90.06 %\n",
      "Epoch 10 of 100 took 1.672s\n",
      "  training loss (in-iteration):\t\t0.418871\n",
      "  train accuracy:\t\t89.13 %\n",
      "  validation accuracy:\t\t90.44 %\n",
      "Epoch 11 of 100 took 1.718s\n",
      "  training loss (in-iteration):\t\t0.402492\n",
      "  train accuracy:\t\t89.43 %\n",
      "  validation accuracy:\t\t90.55 %\n",
      "Epoch 12 of 100 took 1.803s\n",
      "  training loss (in-iteration):\t\t0.388850\n",
      "  train accuracy:\t\t89.66 %\n",
      "  validation accuracy:\t\t90.72 %\n",
      "Epoch 13 of 100 took 1.764s\n",
      "  training loss (in-iteration):\t\t0.377102\n",
      "  train accuracy:\t\t89.91 %\n",
      "  validation accuracy:\t\t90.87 %\n",
      "Epoch 14 of 100 took 1.710s\n",
      "  training loss (in-iteration):\t\t0.367054\n",
      "  train accuracy:\t\t90.12 %\n",
      "  validation accuracy:\t\t91.10 %\n",
      "Epoch 15 of 100 took 1.650s\n",
      "  training loss (in-iteration):\t\t0.358221\n",
      "  train accuracy:\t\t90.23 %\n",
      "  validation accuracy:\t\t91.12 %\n",
      "Epoch 16 of 100 took 1.662s\n",
      "  training loss (in-iteration):\t\t0.350377\n",
      "  train accuracy:\t\t90.42 %\n",
      "  validation accuracy:\t\t91.31 %\n",
      "Epoch 17 of 100 took 1.657s\n",
      "  training loss (in-iteration):\t\t0.343243\n",
      "  train accuracy:\t\t90.57 %\n",
      "  validation accuracy:\t\t91.34 %\n",
      "Epoch 18 of 100 took 1.645s\n",
      "  training loss (in-iteration):\t\t0.336836\n",
      "  train accuracy:\t\t90.74 %\n",
      "  validation accuracy:\t\t91.55 %\n",
      "Epoch 19 of 100 took 1.660s\n",
      "  training loss (in-iteration):\t\t0.330921\n",
      "  train accuracy:\t\t90.84 %\n",
      "  validation accuracy:\t\t91.62 %\n",
      "Epoch 20 of 100 took 1.659s\n",
      "  training loss (in-iteration):\t\t0.325577\n",
      "  train accuracy:\t\t90.97 %\n",
      "  validation accuracy:\t\t91.82 %\n",
      "Epoch 21 of 100 took 1.658s\n",
      "  training loss (in-iteration):\t\t0.320583\n",
      "  train accuracy:\t\t91.12 %\n",
      "  validation accuracy:\t\t91.89 %\n",
      "Epoch 22 of 100 took 1.658s\n",
      "  training loss (in-iteration):\t\t0.315905\n",
      "  train accuracy:\t\t91.20 %\n",
      "  validation accuracy:\t\t92.08 %\n",
      "Epoch 23 of 100 took 1.649s\n",
      "  training loss (in-iteration):\t\t0.311451\n",
      "  train accuracy:\t\t91.35 %\n",
      "  validation accuracy:\t\t92.08 %\n",
      "Epoch 24 of 100 took 1.728s\n",
      "  training loss (in-iteration):\t\t0.307396\n",
      "  train accuracy:\t\t91.45 %\n",
      "  validation accuracy:\t\t92.22 %\n",
      "Epoch 25 of 100 took 1.702s\n",
      "  training loss (in-iteration):\t\t0.303488\n",
      "  train accuracy:\t\t91.50 %\n",
      "  validation accuracy:\t\t92.26 %\n",
      "Epoch 26 of 100 took 1.670s\n",
      "  training loss (in-iteration):\t\t0.299807\n",
      "  train accuracy:\t\t91.62 %\n",
      "  validation accuracy:\t\t92.27 %\n",
      "Epoch 27 of 100 took 1.735s\n",
      "  training loss (in-iteration):\t\t0.296288\n",
      "  train accuracy:\t\t91.71 %\n",
      "  validation accuracy:\t\t92.40 %\n",
      "Epoch 28 of 100 took 1.678s\n",
      "  training loss (in-iteration):\t\t0.292918\n",
      "  train accuracy:\t\t91.80 %\n",
      "  validation accuracy:\t\t92.45 %\n",
      "Epoch 29 of 100 took 1.682s\n",
      "  training loss (in-iteration):\t\t0.289623\n",
      "  train accuracy:\t\t91.89 %\n",
      "  validation accuracy:\t\t92.57 %\n",
      "Epoch 30 of 100 took 1.665s\n",
      "  training loss (in-iteration):\t\t0.286550\n",
      "  train accuracy:\t\t91.96 %\n",
      "  validation accuracy:\t\t92.61 %\n",
      "Epoch 31 of 100 took 1.676s\n",
      "  training loss (in-iteration):\t\t0.283631\n",
      "  train accuracy:\t\t92.04 %\n",
      "  validation accuracy:\t\t92.65 %\n",
      "Epoch 32 of 100 took 1.733s\n",
      "  training loss (in-iteration):\t\t0.280674\n",
      "  train accuracy:\t\t92.09 %\n",
      "  validation accuracy:\t\t92.69 %\n",
      "Epoch 33 of 100 took 1.661s\n",
      "  training loss (in-iteration):\t\t0.277869\n",
      "  train accuracy:\t\t92.14 %\n",
      "  validation accuracy:\t\t92.76 %\n",
      "Epoch 34 of 100 took 1.670s\n",
      "  training loss (in-iteration):\t\t0.275196\n",
      "  train accuracy:\t\t92.25 %\n",
      "  validation accuracy:\t\t92.81 %\n",
      "Epoch 35 of 100 took 1.679s\n",
      "  training loss (in-iteration):\t\t0.272489\n",
      "  train accuracy:\t\t92.31 %\n",
      "  validation accuracy:\t\t92.90 %\n",
      "Epoch 36 of 100 took 1.758s\n",
      "  training loss (in-iteration):\t\t0.269938\n",
      "  train accuracy:\t\t92.36 %\n",
      "  validation accuracy:\t\t92.89 %\n",
      "Epoch 37 of 100 took 1.656s\n",
      "  training loss (in-iteration):\t\t0.267404\n",
      "  train accuracy:\t\t92.41 %\n",
      "  validation accuracy:\t\t92.98 %\n",
      "Epoch 38 of 100 took 1.672s\n",
      "  training loss (in-iteration):\t\t0.265029\n",
      "  train accuracy:\t\t92.54 %\n",
      "  validation accuracy:\t\t93.12 %\n",
      "Epoch 39 of 100 took 1.671s\n",
      "  training loss (in-iteration):\t\t0.262668\n",
      "  train accuracy:\t\t92.55 %\n",
      "  validation accuracy:\t\t93.08 %\n",
      "Epoch 40 of 100 took 1.670s\n",
      "  training loss (in-iteration):\t\t0.260263\n",
      "  train accuracy:\t\t92.64 %\n",
      "  validation accuracy:\t\t93.20 %\n",
      "Epoch 41 of 100 took 1.680s\n",
      "  training loss (in-iteration):\t\t0.258087\n",
      "  train accuracy:\t\t92.68 %\n",
      "  validation accuracy:\t\t93.21 %\n",
      "Epoch 42 of 100 took 1.665s\n",
      "  training loss (in-iteration):\t\t0.255768\n",
      "  train accuracy:\t\t92.73 %\n",
      "  validation accuracy:\t\t93.28 %\n",
      "Epoch 43 of 100 took 1.671s\n",
      "  training loss (in-iteration):\t\t0.253646\n",
      "  train accuracy:\t\t92.80 %\n",
      "  validation accuracy:\t\t93.34 %\n",
      "Epoch 44 of 100 took 1.663s\n",
      "  training loss (in-iteration):\t\t0.251498\n",
      "  train accuracy:\t\t92.87 %\n",
      "  validation accuracy:\t\t93.31 %\n",
      "Epoch 45 of 100 took 1.643s\n",
      "  training loss (in-iteration):\t\t0.249432\n",
      "  train accuracy:\t\t92.95 %\n",
      "  validation accuracy:\t\t93.34 %\n",
      "Epoch 46 of 100 took 1.669s\n",
      "  training loss (in-iteration):\t\t0.247367\n",
      "  train accuracy:\t\t92.97 %\n",
      "  validation accuracy:\t\t93.46 %\n",
      "Epoch 47 of 100 took 1.679s\n",
      "  training loss (in-iteration):\t\t0.245328\n",
      "  train accuracy:\t\t93.05 %\n",
      "  validation accuracy:\t\t93.47 %\n",
      "Epoch 48 of 100 took 1.708s\n",
      "  training loss (in-iteration):\t\t0.243393\n",
      "  train accuracy:\t\t93.11 %\n",
      "  validation accuracy:\t\t93.56 %\n",
      "Epoch 49 of 100 took 1.732s\n",
      "  training loss (in-iteration):\t\t0.241436\n",
      "  train accuracy:\t\t93.16 %\n",
      "  validation accuracy:\t\t93.58 %\n",
      "Epoch 50 of 100 took 1.777s\n",
      "  training loss (in-iteration):\t\t0.239525\n",
      "  train accuracy:\t\t93.23 %\n",
      "  validation accuracy:\t\t93.67 %\n",
      "Epoch 51 of 100 took 1.768s\n",
      "  training loss (in-iteration):\t\t0.237646\n",
      "  train accuracy:\t\t93.24 %\n",
      "  validation accuracy:\t\t93.73 %\n",
      "Epoch 52 of 100 took 1.713s\n",
      "  training loss (in-iteration):\t\t0.235860\n",
      "  train accuracy:\t\t93.31 %\n",
      "  validation accuracy:\t\t93.81 %\n",
      "Epoch 53 of 100 took 1.768s\n",
      "  training loss (in-iteration):\t\t0.234059\n",
      "  train accuracy:\t\t93.36 %\n",
      "  validation accuracy:\t\t93.87 %\n",
      "Epoch 54 of 100 took 1.696s\n",
      "  training loss (in-iteration):\t\t0.232267\n",
      "  train accuracy:\t\t93.39 %\n",
      "  validation accuracy:\t\t93.86 %\n",
      "Epoch 55 of 100 took 1.767s\n",
      "  training loss (in-iteration):\t\t0.230518\n",
      "  train accuracy:\t\t93.47 %\n",
      "  validation accuracy:\t\t93.91 %\n",
      "Epoch 56 of 100 took 1.763s\n",
      "  training loss (in-iteration):\t\t0.228829\n",
      "  train accuracy:\t\t93.51 %\n",
      "  validation accuracy:\t\t94.04 %\n",
      "Epoch 57 of 100 took 2.071s\n",
      "  training loss (in-iteration):\t\t0.227183\n",
      "  train accuracy:\t\t93.58 %\n",
      "  validation accuracy:\t\t94.02 %\n",
      "Epoch 58 of 100 took 2.053s\n",
      "  training loss (in-iteration):\t\t0.225554\n",
      "  train accuracy:\t\t93.58 %\n",
      "  validation accuracy:\t\t94.05 %\n",
      "Epoch 59 of 100 took 2.070s\n",
      "  training loss (in-iteration):\t\t0.223859\n",
      "  train accuracy:\t\t93.66 %\n",
      "  validation accuracy:\t\t94.11 %\n",
      "Epoch 60 of 100 took 2.093s\n",
      "  training loss (in-iteration):\t\t0.222364\n",
      "  train accuracy:\t\t93.67 %\n",
      "  validation accuracy:\t\t94.13 %\n",
      "Epoch 61 of 100 took 2.090s\n",
      "  training loss (in-iteration):\t\t0.220780\n",
      "  train accuracy:\t\t93.76 %\n",
      "  validation accuracy:\t\t94.12 %\n",
      "Epoch 62 of 100 took 2.085s\n",
      "  training loss (in-iteration):\t\t0.219286\n",
      "  train accuracy:\t\t93.78 %\n",
      "  validation accuracy:\t\t94.15 %\n",
      "Epoch 63 of 100 took 2.099s\n",
      "  training loss (in-iteration):\t\t0.217735\n",
      "  train accuracy:\t\t93.83 %\n",
      "  validation accuracy:\t\t94.16 %\n",
      "Epoch 64 of 100 took 2.081s\n",
      "  training loss (in-iteration):\t\t0.216205\n",
      "  train accuracy:\t\t93.88 %\n",
      "  validation accuracy:\t\t94.27 %\n",
      "Epoch 65 of 100 took 2.120s\n",
      "  training loss (in-iteration):\t\t0.214834\n",
      "  train accuracy:\t\t93.94 %\n",
      "  validation accuracy:\t\t94.27 %\n",
      "Epoch 66 of 100 took 2.107s\n",
      "  training loss (in-iteration):\t\t0.213373\n",
      "  train accuracy:\t\t93.98 %\n",
      "  validation accuracy:\t\t94.31 %\n",
      "Epoch 67 of 100 took 2.107s\n",
      "  training loss (in-iteration):\t\t0.211927\n",
      "  train accuracy:\t\t94.00 %\n",
      "  validation accuracy:\t\t94.30 %\n",
      "Epoch 68 of 100 took 2.125s\n",
      "  training loss (in-iteration):\t\t0.210536\n",
      "  train accuracy:\t\t94.04 %\n",
      "  validation accuracy:\t\t94.44 %\n",
      "Epoch 69 of 100 took 2.118s\n",
      "  training loss (in-iteration):\t\t0.209196\n",
      "  train accuracy:\t\t94.10 %\n",
      "  validation accuracy:\t\t94.40 %\n",
      "Epoch 70 of 100 took 2.136s\n",
      "  training loss (in-iteration):\t\t0.207854\n",
      "  train accuracy:\t\t94.13 %\n",
      "  validation accuracy:\t\t94.44 %\n",
      "Epoch 71 of 100 took 2.096s\n",
      "  training loss (in-iteration):\t\t0.206520\n",
      "  train accuracy:\t\t94.19 %\n",
      "  validation accuracy:\t\t94.49 %\n",
      "Epoch 72 of 100 took 2.109s\n",
      "  training loss (in-iteration):\t\t0.205263\n",
      "  train accuracy:\t\t94.20 %\n",
      "  validation accuracy:\t\t94.49 %\n",
      "Epoch 73 of 100 took 2.122s\n",
      "  training loss (in-iteration):\t\t0.203936\n",
      "  train accuracy:\t\t94.22 %\n",
      "  validation accuracy:\t\t94.57 %\n",
      "Epoch 74 of 100 took 2.105s\n",
      "  training loss (in-iteration):\t\t0.202653\n",
      "  train accuracy:\t\t94.27 %\n",
      "  validation accuracy:\t\t94.60 %\n",
      "Epoch 75 of 100 took 2.119s\n",
      "  training loss (in-iteration):\t\t0.201453\n",
      "  train accuracy:\t\t94.28 %\n",
      "  validation accuracy:\t\t94.67 %\n",
      "Epoch 76 of 100 took 2.084s\n",
      "  training loss (in-iteration):\t\t0.200213\n",
      "  train accuracy:\t\t94.36 %\n",
      "  validation accuracy:\t\t94.66 %\n",
      "Epoch 77 of 100 took 2.105s\n",
      "  training loss (in-iteration):\t\t0.198966\n",
      "  train accuracy:\t\t94.37 %\n",
      "  validation accuracy:\t\t94.68 %\n",
      "Epoch 78 of 100 took 2.110s\n",
      "  training loss (in-iteration):\t\t0.197835\n",
      "  train accuracy:\t\t94.40 %\n",
      "  validation accuracy:\t\t94.80 %\n",
      "Epoch 79 of 100 took 2.081s\n",
      "  training loss (in-iteration):\t\t0.196653\n",
      "  train accuracy:\t\t94.44 %\n",
      "  validation accuracy:\t\t94.78 %\n",
      "Epoch 80 of 100 took 2.096s\n",
      "  training loss (in-iteration):\t\t0.195501\n",
      "  train accuracy:\t\t94.48 %\n",
      "  validation accuracy:\t\t94.82 %\n",
      "Epoch 81 of 100 took 2.097s\n",
      "  training loss (in-iteration):\t\t0.194366\n",
      "  train accuracy:\t\t94.53 %\n",
      "  validation accuracy:\t\t94.84 %\n",
      "Epoch 82 of 100 took 2.107s\n",
      "  training loss (in-iteration):\t\t0.193241\n",
      "  train accuracy:\t\t94.55 %\n",
      "  validation accuracy:\t\t94.87 %\n",
      "Epoch 83 of 100 took 2.132s\n",
      "  training loss (in-iteration):\t\t0.192078\n",
      "  train accuracy:\t\t94.55 %\n",
      "  validation accuracy:\t\t94.97 %\n",
      "Epoch 84 of 100 took 2.095s\n",
      "  training loss (in-iteration):\t\t0.191025\n",
      "  train accuracy:\t\t94.63 %\n",
      "  validation accuracy:\t\t94.95 %\n",
      "Epoch 85 of 100 took 2.090s\n",
      "  training loss (in-iteration):\t\t0.189941\n",
      "  train accuracy:\t\t94.66 %\n",
      "  validation accuracy:\t\t95.03 %\n",
      "Epoch 86 of 100 took 2.109s\n",
      "  training loss (in-iteration):\t\t0.188900\n",
      "  train accuracy:\t\t94.69 %\n",
      "  validation accuracy:\t\t95.03 %\n",
      "Epoch 87 of 100 took 2.077s\n",
      "  training loss (in-iteration):\t\t0.187806\n",
      "  train accuracy:\t\t94.72 %\n",
      "  validation accuracy:\t\t95.08 %\n",
      "Epoch 88 of 100 took 2.085s\n",
      "  training loss (in-iteration):\t\t0.186815\n",
      "  train accuracy:\t\t94.74 %\n",
      "  validation accuracy:\t\t95.15 %\n",
      "Epoch 89 of 100 took 2.086s\n",
      "  training loss (in-iteration):\t\t0.185814\n",
      "  train accuracy:\t\t94.76 %\n",
      "  validation accuracy:\t\t95.09 %\n",
      "Epoch 90 of 100 took 2.080s\n",
      "  training loss (in-iteration):\t\t0.184801\n",
      "  train accuracy:\t\t94.79 %\n",
      "  validation accuracy:\t\t95.17 %\n",
      "Epoch 91 of 100 took 2.106s\n",
      "  training loss (in-iteration):\t\t0.183731\n",
      "  train accuracy:\t\t94.83 %\n",
      "  validation accuracy:\t\t95.12 %\n",
      "Epoch 92 of 100 took 2.141s\n",
      "  training loss (in-iteration):\t\t0.182850\n",
      "  train accuracy:\t\t94.83 %\n",
      "  validation accuracy:\t\t95.17 %\n",
      "Epoch 93 of 100 took 2.097s\n",
      "  training loss (in-iteration):\t\t0.181825\n",
      "  train accuracy:\t\t94.85 %\n",
      "  validation accuracy:\t\t95.18 %\n",
      "Epoch 94 of 100 took 2.092s\n",
      "  training loss (in-iteration):\t\t0.180878\n",
      "  train accuracy:\t\t94.91 %\n",
      "  validation accuracy:\t\t95.21 %\n",
      "Epoch 95 of 100 took 2.135s\n",
      "  training loss (in-iteration):\t\t0.179925\n",
      "  train accuracy:\t\t94.94 %\n",
      "  validation accuracy:\t\t95.23 %\n",
      "Epoch 96 of 100 took 2.095s\n",
      "  training loss (in-iteration):\t\t0.179042\n",
      "  train accuracy:\t\t94.91 %\n",
      "  validation accuracy:\t\t95.28 %\n",
      "Epoch 97 of 100 took 2.179s\n",
      "  training loss (in-iteration):\t\t0.178112\n",
      "  train accuracy:\t\t95.00 %\n",
      "  validation accuracy:\t\t95.32 %\n",
      "Epoch 98 of 100 took 2.064s\n",
      "  training loss (in-iteration):\t\t0.177175\n",
      "  train accuracy:\t\t95.01 %\n",
      "  validation accuracy:\t\t95.31 %\n",
      "Epoch 99 of 100 took 2.111s\n",
      "  training loss (in-iteration):\t\t0.176267\n",
      "  train accuracy:\t\t95.00 %\n",
      "  validation accuracy:\t\t95.32 %\n",
      "Epoch 100 of 100 took 1.689s\n",
      "  training loss (in-iteration):\t\t0.175378\n",
      "  train accuracy:\t\t95.06 %\n",
      "  validation accuracy:\t\t95.32 %\n"
     ]
    }
   ],
   "source": [
    "import time\n",
    "\n",
    "num_epochs = 100 #amount of passes through the data\n",
    "\n",
    "batch_size = 50 #number of samples processed at each function call\n",
    "\n",
    "for epoch in range(num_epochs):\n",
    "    # In each epoch, we do a full pass over the training data:\n",
    "    train_err = 0\n",
    "    train_acc = 0\n",
    "    train_batches = 0\n",
    "    start_time = time.time()\n",
    "    for batch in iterate_minibatches(X_train, y_train,batch_size):\n",
    "        inputs, targets = batch\n",
    "        train_err_batch, train_acc_batch= train_fun(inputs, targets)\n",
    "        train_err += train_err_batch\n",
    "        train_acc += train_acc_batch\n",
    "        train_batches += 1\n",
    "\n",
    "    # And a full pass over the validation data:\n",
    "    val_acc = 0\n",
    "    val_batches = 0\n",
    "    for batch in iterate_minibatches(X_val, y_val, batch_size):\n",
    "        inputs, targets = batch\n",
    "        val_acc += accuracy_fun(inputs, targets)\n",
    "        val_batches += 1\n",
    "\n",
    "    \n",
    "    # Then we print the results for this epoch:\n",
    "    print(\"Epoch {} of {} took {:.3f}s\".format(\n",
    "        epoch + 1, num_epochs, time.time() - start_time))\n",
    "\n",
    "    print(\"  training loss (in-iteration):\\t\\t{:.6f}\".format(train_err / train_batches))\n",
    "    print(\"  train accuracy:\\t\\t{:.2f} %\".format(\n",
    "        train_acc / train_batches * 100))\n",
    "    print(\"  validation accuracy:\\t\\t{:.2f} %\".format(\n",
    "        val_acc / val_batches * 100))"
   ]
  },
  {
   "cell_type": "code",
   "execution_count": 15,
   "metadata": {
    "collapsed": false
   },
   "outputs": [
    {
     "name": "stdout",
     "output_type": "stream",
     "text": [
      "Final results:\n",
      "  test accuracy:\t\t94.96 %\n",
      "We need more magic!\n"
     ]
    }
   ],
   "source": [
    "test_acc = 0\n",
    "test_batches = 0\n",
    "for batch in iterate_minibatches(X_test, y_test, 500):\n",
    "    inputs, targets = batch\n",
    "    acc = accuracy_fun(inputs, targets)\n",
    "    test_acc += acc\n",
    "    test_batches += 1\n",
    "print(\"Final results:\")\n",
    "print(\"  test accuracy:\\t\\t{:.2f} %\".format(\n",
    "    test_acc / test_batches * 100))\n",
    "\n",
    "if test_acc / test_batches * 100 > 99:\n",
    "    print \"Achievement unlocked: 80lvl Warlock!\"\n",
    "else:\n",
    "    print \"We need more magic!\""
   ]
  },
  {
   "cell_type": "markdown",
   "metadata": {},
   "source": [
    "# A better network\n",
    "\n",
    "\n",
    "* The quest is to create a network that gets at least 99% at test set\n",
    " * In case you tried several architectures and have a __detailed__ report - 97.5% \"is fine too\". \n",
    " \n",
    "__ There is a mini-report at the end that you will have to fill in. We recommend to read it first and fill in while you are iterating. __\n",
    " \n",
    "\n",
    "## Tips on what can be done:\n",
    "\n",
    "\n",
    "\n",
    " * Network size\n",
    "   * MOAR neurons, \n",
    "   * MOAR layers, \n",
    "   * Пх'нглуи мглв'нафх Ктулху Р'льех вгах'нагл фхтагн! \n",
    "   \n",
    "   \n",
    "   \n",
    " * Regularize to prevent overfitting\n",
    "   * Add some L2 weight norm to the loss function, theano will do the rest\n",
    "   * Can be done manually or via - http://lasagne.readthedocs.org/en/latest/modules/regularization.html\n",
    "   \n",
    "   \n",
    "   \n",
    " * Better optimization - rmsprop, nesterov_momentum, adadelta, adagrad and so on.\n",
    "   * Converge faster and sometimes reach better optima\n",
    "   * It might make sense to tweak learning rate, other learning parameters, batch size and number of epochs\n",
    "   \n",
    "   \n",
    "   \n",
    " * Dropout - to prevent overfitting\n",
    "   * `lasagne.layers.DropoutLayer(prev_layer, p=probability_to_zero_out)`\n",
    "   \n",
    "   \n",
    "   \n",
    " * Convolution layers\n",
    "   * `network = lasagne.layers.Conv2DLayer(prev_layer,`\n",
    "    `                       num_filters = n_neurons,`\n",
    "    `                        filter_size = (filter width, filter height),`\n",
    "    `                        nonlinearity = some_nonlinearity)`\n",
    "   * Warning! Training convolutional networks can take long without GPU.\n",
    "     * If you are CPU-only, we still recomment to try a simple convolutional architecture\n",
    "     * a perfect option is if you can set it up to run at nighttime and check it up at the morning.\n",
    " \n",
    " * Plenty other layers and architectures\n",
    "   * http://lasagne.readthedocs.org/en/latest/modules/layers.html\n",
    "   * batch normalization, pooling, etc\n",
    "   \n",
    "   \n",
    " * Nonlinearities in the hidden layers\n",
    "   * tanh, relu, leaky relu, etc\n",
    "   \n",
    " \n",
    " \n",
    "   \n",
    "There is a template for your solution below that you can opt to use or throw away and write it your way"
   ]
  },
  {
   "cell_type": "code",
   "execution_count": null,
   "metadata": {
    "collapsed": false
   },
   "outputs": [],
   "source": [
    "from mnist import load_dataset\n",
    "X_train,y_train,X_val,y_val,X_test,y_test = load_dataset()\n",
    "\n",
    "print X_train.shape,y_train.shape"
   ]
  },
  {
   "cell_type": "code",
   "execution_count": null,
   "metadata": {
    "collapsed": true
   },
   "outputs": [],
   "source": [
    "import lasagne\n",
    "\n",
    "input_X = T.tensor4(\"X\")\n",
    "\n",
    "#input dimention (None means \"Arbitrary\" and only works at  the first axes [samples])\n",
    "input_shape = [None,1,28,28]\n",
    "\n",
    "target_y = T.vector(\"target Y integer\",dtype='int32')"
   ]
  },
  {
   "cell_type": "code",
   "execution_count": null,
   "metadata": {
    "collapsed": true
   },
   "outputs": [],
   "source": [
    "#Input layer (auxilary)\n",
    "input_layer = lasagne.layers.InputLayer(shape = input_shape,input_var=input_X)\n",
    "\n",
    "<student.code_neural_network_architecture()>\n",
    "\n",
    "dense_output = <your network output>"
   ]
  },
  {
   "cell_type": "code",
   "execution_count": null,
   "metadata": {
    "collapsed": true
   },
   "outputs": [],
   "source": [
    "# Network predictions (theano-transformation)\n",
    "y_predicted = lasagne.layers.get_output(dense_output)"
   ]
  },
  {
   "cell_type": "code",
   "execution_count": null,
   "metadata": {
    "collapsed": false
   },
   "outputs": [],
   "source": [
    "#All weights (shared-varaibles)\n",
    "# \"trainable\" flag means not to return auxilary params like batch mean (for batch normalization)\n",
    "all_weights = lasagne.layers.get_all_params(dense_output,trainable=True)\n",
    "print all_weights"
   ]
  },
  {
   "cell_type": "code",
   "execution_count": null,
   "metadata": {
    "collapsed": true
   },
   "outputs": [],
   "source": [
    "#loss function\n",
    "loss = <loss function>\n",
    "\n",
    "#<optionally add regularization>\n",
    "\n",
    "accuracy = <mean accuracy score for evaluation> \n",
    "\n",
    "#weight updates\n",
    "updates = <try different update methods>"
   ]
  },
  {
   "cell_type": "code",
   "execution_count": null,
   "metadata": {
    "collapsed": true
   },
   "outputs": [],
   "source": [
    "#A function that accepts X and y, returns loss functions and performs weight updates\n",
    "train_fun = theano.function([input_X,target_y],[loss,accuracy],updates= updates_sgd)\n",
    "\n",
    "#A function that just computes accuracy given X and y\n",
    "accuracy_fun = theano.function([input_X,target_y],accuracy)"
   ]
  },
  {
   "cell_type": "code",
   "execution_count": null,
   "metadata": {
    "collapsed": false
   },
   "outputs": [],
   "source": [
    "#итерации обучения\n",
    "\n",
    "num_epochs = <how many times to iterate over the entire training set>\n",
    "\n",
    "batch_size = <how many samples are processed at a single function call>\n",
    "\n",
    "for epoch in range(num_epochs):\n",
    "    # In each epoch, we do a full pass over the training data:\n",
    "    train_err = 0\n",
    "    train_acc = 0\n",
    "    train_batches = 0\n",
    "    start_time = time.time()\n",
    "    for batch in iterate_minibatches(X_train, y_train,batch_size):\n",
    "        inputs, targets = batch\n",
    "        train_err_batch, train_acc_batch= train_fun(inputs, targets)\n",
    "        train_err += train_err_batch\n",
    "        train_acc += train_acc_batch\n",
    "        train_batches += 1\n",
    "\n",
    "    # And a full pass over the validation data:\n",
    "    val_acc = 0\n",
    "    val_batches = 0\n",
    "    for batch in iterate_minibatches(X_val, y_val, batch_size):\n",
    "        inputs, targets = batch\n",
    "        val_acc += accuracy_fun(inputs, targets)\n",
    "        val_batches += 1\n",
    "\n",
    "    \n",
    "    # Then we print the results for this epoch:\n",
    "    print(\"Epoch {} of {} took {:.3f}s\".format(\n",
    "        epoch + 1, num_epochs, time.time() - start_time))\n",
    "\n",
    "    print(\"  training loss (in-iteration):\\t\\t{:.6f}\".format(train_err / train_batches))\n",
    "    print(\"  train accuracy:\\t\\t{:.2f} %\".format(\n",
    "        train_acc / train_batches * 100))\n",
    "    print(\"  validation accuracy:\\t\\t{:.2f} %\".format(\n",
    "        val_acc / val_batches * 100))"
   ]
  },
  {
   "cell_type": "code",
   "execution_count": null,
   "metadata": {
    "collapsed": true
   },
   "outputs": [],
   "source": [
    "test_acc = 0\n",
    "test_batches = 0\n",
    "for batch in iterate_minibatches(X_test, y_test, 500):\n",
    "    inputs, targets = batch\n",
    "    acc = accuracy_fun(inputs, targets)\n",
    "    test_acc += acc\n",
    "    test_batches += 1\n",
    "print(\"Final results:\")\n",
    "print(\"  test accuracy:\\t\\t{:.2f} %\".format(\n",
    "    test_acc / test_batches * 100))\n",
    "\n",
    "if test_acc / test_batches * 100 > 99:\n",
    "    print \"Achievement unlocked: 80lvl Warlock!\"\n",
    "else:\n",
    "    print \"We need more magic!\""
   ]
  },
  {
   "cell_type": "markdown",
   "metadata": {},
   "source": [
    "Report\n",
    "\n",
    "All creative approaches are highly welcome, but at the very least it would be great to mention\n",
    "* the idea;\n",
    "* brief history of tweaks and improvements;\n",
    "* what is the final architecture and why?\n",
    "* what is the training method and, again, why?\n",
    "* Any regularizations and other techniques applied and their effects;\n",
    "\n",
    "\n",
    "There is no need to write strict mathematical proofs (unless you want to).\n",
    " * \"I tried this, this and this, and the second one turned out to be better. And i just didn't like the name of that one\" - OK, but can be better\n",
    " * \"I have analized these and these articles|sources|blog posts, tried that and that to adapt them to my problem and the conclusions are such and such\" - the ideal one\n",
    " * \"I took that code that demo without understanding it, but i'll never confess that and instead i'll make up some pseudoscientific explaination\" - __not_ok__"
   ]
  },
  {
   "cell_type": "markdown",
   "metadata": {},
   "source": [
    "### Hi, my name is `___ ___`, and here's my story\n",
    "\n",
    "A long ago in a galaxy far far away, when it was still more than an hour before deadline, i got an idea:\n",
    "\n",
    "##### I gonna build a neural network, that\n",
    "* brief text on what was\n",
    "* the original idea\n",
    "* and why it was so\n",
    "\n",
    "How could i be so naive?!\n",
    "\n",
    "##### One day, with no signs of warning,\n",
    "This thing has finally converged and\n",
    "* Some explaination about what were the results,\n",
    "* what worked and what didn't\n",
    "* most importantly - what next steps were taken, if any\n",
    "* and what were their respective outcomes\n",
    "\n",
    "##### Finally, after __  iterations, __ mugs of [tea/coffee]\n",
    "* what was the final architecture\n",
    "* as well as training method and tricks\n",
    "\n",
    "That, having wasted ____ [minutes, hours or days] of my life training, got\n",
    "\n",
    "* accuracy on training: __\n",
    "* accuracy on validation: __\n",
    "* accuracy on test: __\n",
    "\n",
    "\n",
    "[an optional afterword and mortal curses on assignment authors]"
   ]
  },
  {
   "cell_type": "code",
   "execution_count": null,
   "metadata": {
    "collapsed": true
   },
   "outputs": [],
   "source": []
  }
 ],
 "metadata": {
  "kernelspec": {
   "display_name": "Python 2",
   "language": "python",
   "name": "python2"
  },
  "language_info": {
   "codemirror_mode": {
    "name": "ipython",
    "version": 2
   },
   "file_extension": ".py",
   "mimetype": "text/x-python",
   "name": "python",
   "nbconvert_exporter": "python",
   "pygments_lexer": "ipython2",
   "version": "2.7.11"
  }
 },
 "nbformat": 4,
 "nbformat_minor": 0
}
